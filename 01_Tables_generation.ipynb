{
 "cells": [
  {
   "cell_type": "markdown",
   "id": "57a1eefb",
   "metadata": {},
   "source": [
    "# Tables generation\n",
    "\n",
    "In this short notebook I will show you how to generate different tables from csv files of player stats for each match from season 2017-2018 including top 5 european leagues.\n",
    "\n",
    "Let's go!"
   ]
  },
  {
   "cell_type": "code",
   "execution_count": 1,
   "id": "2d062e91",
   "metadata": {},
   "outputs": [],
   "source": [
    "import pandas as pd \n",
    "import matplotlib.pyplot as plt \n",
    "import numpy as np\n",
    "import glob\n",
    "import seaborn as sns\n",
    "from tqdm import tqdm"
   ]
  },
  {
   "cell_type": "markdown",
   "id": "539dee63",
   "metadata": {},
   "source": [
    "### 1. Load csvs"
   ]
  },
  {
   "cell_type": "code",
   "execution_count": 2,
   "id": "b71bc49b",
   "metadata": {},
   "outputs": [],
   "source": [
    "leagues_path = 'leagues/*/*/players*tillnow.csv'"
   ]
  },
  {
   "cell_type": "code",
   "execution_count": 3,
   "id": "3b459d0f",
   "metadata": {},
   "outputs": [],
   "source": [
    "leagues = glob.glob(leagues_path)"
   ]
  },
  {
   "cell_type": "code",
   "execution_count": 4,
   "id": "efc5c379",
   "metadata": {},
   "outputs": [
    {
     "name": "stderr",
     "output_type": "stream",
     "text": [
      "player_match_dataenating league data into one csv: 100%|████████████████████████████████████████████████████████████████████████████████████████████████████████████████████| 35/35 [00:05<00:00,  6.23it/s]\n"
     ]
    }
   ],
   "source": [
    "player_match_data = pd.DataFrame()\n",
    "\n",
    "for csv in tqdm(leagues, desc = 'player_match_dataenating league data into one csv'):\n",
    "\n",
    "    df = pd.read_csv(csv, thousands = ',')\n",
    "\n",
    "    player_match_data = pd.concat([player_match_data,df])\n",
    "        \n",
    "player_match_data.loc[player_match_data.gameweek.isna(), 'gameweek'] = player_match_data.loc[player_match_data.gameweek.isna(), 'gameweek_x']\n",
    "player_match_data.loc[player_match_data.gameweek.isna(), 'gameweek'] = player_match_data.loc[player_match_data.gameweek.isna(), 'gameweek_y']\n",
    "\n",
    "player_match_data.drop(['gameweek_x', 'gameweek_y'], axis = 1, inplace = True)\n",
    "    \n",
    "player_match_data[\"date\"] = pd.to_datetime(player_match_data['date'])\n",
    "player_match_data.loc[player_match_data.attendance.isna(), 'attendance']  =0"
   ]
  },
  {
   "cell_type": "markdown",
   "id": "5cd3c84d",
   "metadata": {},
   "source": [
    "### 2. Define seasons"
   ]
  },
  {
   "cell_type": "code",
   "execution_count": 5,
   "id": "45451897",
   "metadata": {},
   "outputs": [],
   "source": [
    "date_ranges = [\n",
    "    ('2017-07-01', '2018-07-01'),\n",
    "    ('2018-07-01', '2019-07-01'),\n",
    "    ('2019-07-01', '2020-08-03'),\n",
    "    ('2020-08-03', '2021-07-01'),\n",
    "    ('2021-07-01', '2022-07-01'),\n",
    "    ('2022-07-01', '2023-07-01'),\n",
    "    ('2023-07-01', '2024-07-01')\n",
    "]\n",
    "\n",
    "for start_date, end_date in date_ranges:\n",
    "    start_date = pd.to_datetime(start_date)\n",
    "    end_date = pd.to_datetime(end_date)\n",
    "    \n",
    "    mask = (player_match_data['date'] >= start_date) & (player_match_data['date'] < end_date)\n",
    "    player_match_data.loc[mask, 'season'] = f'{start_date.year}_{end_date.year}'  "
   ]
  },
  {
   "cell_type": "markdown",
   "id": "59f552ac",
   "metadata": {},
   "source": [
    "### 3. Add important columns"
   ]
  },
  {
   "cell_type": "code",
   "execution_count": 6,
   "id": "3f272f89",
   "metadata": {},
   "outputs": [],
   "source": [
    "player_match_data['starter'] = player_match_data.apply(lambda row: 0 if \n",
    "                                                       row['name'].startswith('\\xa0\\xa0\\xa0') else \n",
    "                                                       1, axis = 1)\n",
    "player_match_data.name = player_match_data.name.str.strip()"
   ]
  },
  {
   "cell_type": "code",
   "execution_count": 7,
   "id": "9c4118e4",
   "metadata": {},
   "outputs": [],
   "source": [
    "player_match_data[['home_score', 'away_score']] = player_match_data.apply(\n",
    "    lambda row: pd.Series([int(x) for x in row['score'].split('–')]), axis = 1)\n",
    "\n",
    "player_match_data[['ht_home_score', 'ht_away_score']] = player_match_data.apply(\n",
    "    lambda row: pd.Series([int(x) for x in row['ht_score'].split('–')]), axis = 1)"
   ]
  },
  {
   "cell_type": "code",
   "execution_count": 8,
   "id": "88e150a7",
   "metadata": {},
   "outputs": [],
   "source": [
    "player_match_data['hda_match_winner'] = player_match_data.apply(lambda row: 'h' if row.home_score>row.away_score else \n",
    "                                                          'a' if row.home_score<row.away_score else \n",
    "                                                          'd', axis = 1)\n",
    "\n",
    "player_match_data['ht_hda_match_winner'] = player_match_data.apply(lambda row: 'h' if \n",
    "                                                             row.ht_home_score>row.ht_away_score else \n",
    "                                                             'a' if row.ht_home_score<row.ht_away_score else \n",
    "                                                             'd', axis = 1)\n",
    "\n",
    "\n",
    "player_match_data['match_home_win'] = (player_match_data['hda_match_winner'] == 'h').astype(int)\n",
    "player_match_data['match_draw'] = (player_match_data['hda_match_winner'] == 'd').astype(int)\n",
    "player_match_data['match_win'] = (player_match_data['hda_match_winner'] == 'a').astype(int)\n",
    "\n",
    "player_match_data['match_home_lose'] = (player_match_data['hda_match_winner'] == 'a').astype(int)\n",
    "player_match_data['match_away_lose'] = (player_match_data['hda_match_winner'] == 'h').astype(int)\n",
    "\n",
    "player_match_data['ht_match_home_win'] = (player_match_data['ht_hda_match_winner'] == 'h').astype(int)\n",
    "player_match_data['ht_match_draw'] = (player_match_data['ht_hda_match_winner'] == 'd').astype(int)\n",
    "player_match_data['ht_match_away_win'] = (player_match_data['ht_hda_match_winner'] == 'a').astype(int)\n",
    "\n",
    "player_match_data['ht_match_home_lose'] = (player_match_data['ht_hda_match_winner'] == 'a').astype(int)\n",
    "player_match_data['ht_match_away_lose'] = (player_match_data['ht_hda_match_winner'] == 'h').astype(int)\n",
    "\n",
    "player_match_data.drop('hda_match_winner', inplace = True, axis = 1)\n",
    "player_match_data.drop('ht_hda_match_winner', inplace = True, axis = 1)"
   ]
  },
  {
   "cell_type": "code",
   "execution_count": 9,
   "id": "8423aa34",
   "metadata": {},
   "outputs": [],
   "source": [
    "player_match_data['opponent'] = player_match_data.apply(lambda row: \n",
    "                                                           row.home_team if row.away_team==row.team else \n",
    "                                                           row.away_team if row.home_team==row.team else None, axis = 1)\n",
    "\n",
    "player_match_data['team_winner'] = player_match_data.apply(lambda row: \n",
    "                                                           row.home_team if row.home_score>row.away_score else \n",
    "                                                           row.away_team if row.home_score<row.away_score else \n",
    "                                                           'draw', axis = 1)\n",
    "\n",
    "player_match_data['ht_team_winner'] = player_match_data.apply(\n",
    "    lambda row: row.home_team if row.ht_home_score>row.ht_away_score else \n",
    "    row.away_team if row.ht_home_score<row.ht_away_score else 'draw', \n",
    "                                                              axis = 1)\n",
    "\n",
    "player_match_data['home_away'] = player_match_data.apply(lambda row: \n",
    "                                                           'home' if row.home_team==row.team else \n",
    "                                                           'away' if row.away_team==row.team else None, axis = 1)\n",
    "\n",
    "player_match_data['team_home_win'] = player_match_data.apply(lambda row: \n",
    "                                                           1 if row.home_away=='home' and row.team_winner==row.team \n",
    "                                                             else 0, axis = 1)\n",
    "\n",
    "player_match_data['team_home_draw'] = player_match_data.apply(lambda row: \n",
    "                                                           1 if row.home_away=='home' and row.team_winner=='draw' \n",
    "                                                             else 0, axis = 1)\n",
    "\n",
    "player_match_data['team_home_lose'] = player_match_data.apply(lambda row: \n",
    "                                                           1 if row.home_away=='home' and row.team_winner==row.opponent \n",
    "                                                             else 0, axis = 1)\n",
    "\n",
    "player_match_data['team_away_win'] = player_match_data.apply(lambda row: \n",
    "                                                           1 if row.home_away=='away' and row.team_winner==row.team \n",
    "                                                             else 0, axis = 1)\n",
    "\n",
    "player_match_data['team_away_draw'] = player_match_data.apply(lambda row: \n",
    "                                                           1 if row.home_away=='away' and row.team_winner=='draw' \n",
    "                                                             else 0, axis = 1)\n",
    "\n",
    "player_match_data['team_away_lose'] = player_match_data.apply(lambda row: \n",
    "                                                           1 if row.home_away=='away' and row.team_winner==row.opponent \n",
    "                                                             else 0, axis = 1)"
   ]
  },
  {
   "cell_type": "code",
   "execution_count": 10,
   "id": "997031f6",
   "metadata": {},
   "outputs": [],
   "source": [
    "player_match_data['winner'] = player_match_data.apply(\n",
    "    lambda row: 'w' if row.team==row.team_winner else 'd' if row.team_winner=='draw' else 'l', axis = 1)\n",
    "\n",
    "player_match_data['ht_winner'] = player_match_data.apply(\n",
    "    lambda row: 'w' if row.team==row.ht_team_winner else 'd' if row.ht_team_winner=='draw' else 'l', axis = 1)\n",
    "\n",
    "\n",
    "player_match_data['team_win'] = (player_match_data['winner'] == 'w').astype(int)\n",
    "player_match_data['team_draw'] = (player_match_data['winner'] == 'draw').astype(int)\n",
    "player_match_data['team_lose'] = (player_match_data['winner'] == 'l').astype(int)\n",
    "\n",
    "player_match_data['ht_team_win'] = (player_match_data['ht_winner'] == 'w').astype(int)\n",
    "player_match_data['ht_team_draw'] = (player_match_data['ht_winner'] == 'draw').astype(int)\n",
    "player_match_data['ht_team_lose'] = (player_match_data['ht_winner'] == 'l').astype(int)\n",
    "\n",
    "player_match_data.drop('winner', inplace = True, axis = 1)\n",
    "player_match_data.drop('ht_winner', inplace = True, axis = 1)"
   ]
  },
  {
   "cell_type": "code",
   "execution_count": 11,
   "id": "7cc4c89b",
   "metadata": {},
   "outputs": [],
   "source": [
    "player_match_data['team_points'] = player_match_data.apply(\n",
    "    lambda row: 3 if row.team_win==1 else 0 if row.team_lose==1 else 1, axis = 1)\n",
    "\n",
    "player_match_data['ht_team_points'] = player_match_data.apply(\n",
    "    lambda row: 3 if row.ht_team_win==1 else 0 if row.ht_team_lose==1 else 1, axis = 1)"
   ]
  },
  {
   "cell_type": "code",
   "execution_count": 12,
   "id": "c05d50cb",
   "metadata": {},
   "outputs": [],
   "source": [
    "player_match_data['team_xg'] = player_match_data.apply(\n",
    "    lambda row: row.home_xg if row.team==row.home_team else row.away_xg, axis = 1)\n",
    "\n",
    "player_match_data['against_xg'] = player_match_data.apply(\n",
    "    lambda row: row.away_xg if row.team==row.home_team else row.home_xg, axis = 1)"
   ]
  },
  {
   "cell_type": "code",
   "execution_count": 13,
   "id": "4bac5b3d",
   "metadata": {},
   "outputs": [],
   "source": [
    "player_match_data['team_scored'] = player_match_data.apply(\n",
    "    lambda row: row.home_score if row.team==row.home_team else row.away_score, axis = 1)\n",
    "player_match_data['team_conceded'] = player_match_data.apply(\n",
    "    lambda row: row.home_score if row.team==row.away_team else row.away_score, axis = 1)\n",
    "\n",
    "player_match_data['ht_team_scored'] = player_match_data.apply(\n",
    "    lambda row: row.ht_home_score if row.team==row.home_team else row.ht_away_score, axis = 1)\n",
    "player_match_data['ht_team_conceded'] = player_match_data.apply(\n",
    "    lambda row: row.ht_home_score if row.team==row.away_team else row.ht_away_score, axis = 1)"
   ]
  },
  {
   "cell_type": "code",
   "execution_count": 14,
   "id": "3269d612",
   "metadata": {},
   "outputs": [
    {
     "name": "stderr",
     "output_type": "stream",
     "text": [
      "Adding unique position to every player: 100%|███████████████████████████████████████████████████████████████████████████████████████████████████████████████████████████| 6267/6267 [06:26<00:00, 16.22it/s]\n"
     ]
    }
   ],
   "source": [
    "names = player_match_data.name.unique()\n",
    "\n",
    "player_match_data.position.fillna('No_position', inplace = True)\n",
    "\n",
    "for nam in tqdm(names, desc = 'Adding unique position to every player'):\n",
    "        player_pos = []\n",
    "        player = player_match_data.loc[player_match_data.name==nam, ['date', 'position']]\n",
    "        player['position'].apply(lambda row: player_pos.extend(row.split(\",\")))\n",
    "        pos = max(set(player_pos), key = player_pos.count).strip()\n",
    "        player_match_data.loc[player_match_data.name==nam, 'main_position'] = pos"
   ]
  },
  {
   "cell_type": "code",
   "execution_count": 15,
   "id": "2f6dd9db",
   "metadata": {},
   "outputs": [],
   "source": [
    "player_match_data.drop('score', inplace = True, axis = 1)\n",
    "player_match_data.drop('ht_score', inplace = True, axis = 1)\n",
    "\n",
    "player_match_data.sort_values('date', inplace = True)\n",
    "\n",
    "player_match_data.to_csv('analytics/player_match_data.csv', index = False)"
   ]
  },
  {
   "cell_type": "markdown",
   "id": "680c9ea2",
   "metadata": {},
   "source": [
    "### 4. Generate additional tables\n",
    "#### 4.1. Generate table of all matches with stats for each team (2 columns per match: home and away team)"
   ]
  },
  {
   "cell_type": "code",
   "execution_count": 16,
   "id": "933741d1",
   "metadata": {},
   "outputs": [],
   "source": [
    "team_match_columns = ['season', 'dayofweek', 'date', 'start_time', 'home_team', 'home_xg',\n",
    "       'away_xg', 'away_team', 'attendance', 'venue', 'referee', 'league',\n",
    "       'gameweek', 'manager', 'team', 'formation', 'home_score', 'away_score',\n",
    "       'ht_home_score', 'ht_away_score', 'match_home_win', 'match_draw',\n",
    "       'match_win', 'match_home_lose', 'match_away_lose',\n",
    "       'ht_match_home_win', 'ht_match_draw', 'ht_match_away_win',\n",
    "       'ht_match_home_lose', 'ht_match_away_lose', 'opponent',\n",
    "       'team_winner', 'ht_team_winner', 'home_away', 'team_home_win',\n",
    "       'team_home_draw', 'team_home_lose', 'team_away_win',\n",
    "       'team_away_draw', 'team_away_lose', 'team_win', 'team_draw',\n",
    "       'team_lose', 'ht_team_win', 'ht_team_draw', 'ht_team_lose',\n",
    "       'team_points', 'ht_team_points', 'team_xg', 'against_xg',\n",
    "       'team_scored', 'team_conceded', 'ht_team_scored',\n",
    "       'ht_team_conceded']\n",
    "\n",
    "redundant_numeric_columns = ['starter', 'minutes', 'x', 'y','shirtnumber']\n",
    "\n",
    "pct_cols = [x for x in player_match_data.columns if '_pct' in x]\n",
    "\n",
    "numeric_columns = player_match_data.select_dtypes(include=[np.number]).columns.tolist()\n",
    "numeric_columns = [col for col in numeric_columns if col not in redundant_numeric_columns]\n",
    "\n",
    "mean_cols = pct_cols.copy()\n",
    "mean_cols.append('age')"
   ]
  },
  {
   "cell_type": "code",
   "execution_count": 17,
   "id": "bc908ba2",
   "metadata": {},
   "outputs": [],
   "source": [
    "agg_dict = {col: 'sum' for col in numeric_columns if col not in mean_cols and col not in team_match_columns}\n",
    "\n",
    "for x in mean_cols:\n",
    "    agg_dict[x]='mean'\n",
    "    \n",
    "team_match_data = player_match_data.groupby(team_match_columns).agg(agg_dict).reset_index()\n",
    "team_match_data.to_csv('analytics/team_match_data.csv', index = False)"
   ]
  },
  {
   "cell_type": "markdown",
   "id": "c18f9a18",
   "metadata": {},
   "source": [
    "#### 4.2. Generate table of matches"
   ]
  },
  {
   "cell_type": "code",
   "execution_count": 18,
   "id": "56931d8a",
   "metadata": {},
   "outputs": [],
   "source": [
    "match_columns = ['dayofweek', 'date', 'start_time', 'home_team', 'home_xg',\n",
    "       'away_xg', 'away_team', 'attendance', 'venue', 'referee', 'league',\n",
    "       'gameweek', 'season', 'home_score', 'away_score',\n",
    "       'ht_home_score', 'ht_away_score', 'match_home_win', 'match_draw',\n",
    "       'match_win', 'match_home_lose', 'match_away_lose',\n",
    "       'ht_match_home_win', 'ht_match_draw', 'ht_match_away_win',\n",
    "       'ht_match_home_lose', 'ht_match_away_lose',\n",
    "       'team_winner', 'ht_team_winner']\n",
    "redundant_numeric_columns = ['starter', 'minutes', 'x', 'y','shirtnumber', 'opponent', 'team_home_win',\n",
    "       'team_home_draw', 'team_home_lose', 'team_away_win',\n",
    "       'team_away_draw', 'team_away_lose', 'team_win', 'team_draw',\n",
    "       'team_lose', 'ht_team_win', 'ht_team_draw', 'ht_team_lose',\n",
    "       'team_points', 'ht_team_points']\n",
    "\n",
    "numeric_columns = team_match_data.select_dtypes(include=[np.number]).columns.tolist()\n",
    "numeric_columns = [col for col in numeric_columns if col not in redundant_numeric_columns]\n",
    "\n",
    "mean_cols = pct_cols.copy()\n",
    "mean_cols.append('age')"
   ]
  },
  {
   "cell_type": "code",
   "execution_count": 19,
   "id": "5b88224d",
   "metadata": {},
   "outputs": [],
   "source": [
    "agg_dict = {col: 'sum' for col in numeric_columns if col not in mean_cols and col not in match_columns}\n",
    "\n",
    "for x in mean_cols:\n",
    "    agg_dict[x]='mean'\n",
    "    \n",
    "match_data = team_match_data.groupby(match_columns).agg(agg_dict).reset_index()\n",
    "match_data.to_csv('analytics/match_data.csv', index = False)"
   ]
  },
  {
   "cell_type": "markdown",
   "id": "0a643aea",
   "metadata": {},
   "source": [
    "#### 4.3. Generate table of teams per season stats\n",
    "\n",
    "For example:\n",
    "- Napoli, 2020-2021,....\n",
    "- Juventus, 2022-2023,...\n",
    "- Real Madrid, 2018-2019,...\n",
    "\n",
    "..."
   ]
  },
  {
   "cell_type": "code",
   "execution_count": 20,
   "id": "451180f9",
   "metadata": {},
   "outputs": [],
   "source": [
    "team_columns = ['team', 'league', 'season']\n",
    "\n",
    "numeric_columns = team_match_data.select_dtypes(include=[np.number]).columns.tolist()\n",
    "redundant_numeric_columns = ['home_xg','away_xg', 'gameweek', 'x', 'y',\n",
    "       'shirtnumber', 'minutes', 'home_score', 'away_score',\n",
    "       'ht_home_score', 'ht_away_score', 'match_home_win', 'match_draw',\n",
    "       'match_win', 'match_home_lose', 'match_away_lose',\n",
    "       'ht_match_home_win', 'ht_match_draw', 'ht_match_away_win',\n",
    "       'ht_match_home_lose', 'ht_match_away_lose']\n",
    "numeric_columns = [col for col in numeric_columns if col not in redundant_numeric_columns]\n",
    "\n",
    "mean_cols = pct_cols.copy()\n",
    "mean_cols.append('age')"
   ]
  },
  {
   "cell_type": "code",
   "execution_count": 21,
   "id": "7acefbb2",
   "metadata": {},
   "outputs": [
    {
     "name": "stderr",
     "output_type": "stream",
     "text": [
      "/tmp/ipykernel_28486/1420723159.py:21: DeprecationWarning: In a future version, `df.iloc[:, i] = newvals` will attempt to set the values inplace instead of always setting a new array. To retain the old behavior, use either `df[df.columns[i]] = newvals` or, if columns are non-unique, `df.isetitem(i, newvals)`\n",
      "  team_data_season_avg.loc[:, numeric_columns] = team_data_season_avg.loc[:, numeric_columns].div(team_data_season_avg['num_matches'], axis=0)\n",
      "/tmp/ipykernel_28486/1420723159.py:41: UserWarning: Boolean Series key will be reindexed to match DataFrame index.\n",
      "  team_data_season_avg.loc[mask, 'league_rank'] = range(1,len(team_data_season_avg[mask])+1)\n",
      "/tmp/ipykernel_28486/1420723159.py:41: UserWarning: Boolean Series key will be reindexed to match DataFrame index.\n",
      "  team_data_season_avg.loc[mask, 'league_rank'] = range(1,len(team_data_season_avg[mask])+1)\n"
     ]
    }
   ],
   "source": [
    "leagues = team_match_data.league.unique()\n",
    "seasons = team_match_data.season.unique()         \n",
    "\n",
    "agg_dict = {col: 'sum' for col in numeric_columns if col not in mean_cols and col not in team_columns}\n",
    "\n",
    "for x in mean_cols:\n",
    "    agg_dict[x]='mean'\n",
    "\n",
    "grouped_data = team_match_data.groupby(team_columns)\n",
    "team_data_season = grouped_data.agg(agg_dict).reset_index()\n",
    "team_data_season['num_matches'] = grouped_data.size().values\n",
    "team_data_season['managers'] = grouped_data['manager'].agg(lambda x: ', '.join(set(x))).reset_index()['manager']\n",
    "team_data_season['num_managers'] = grouped_data['manager'].agg(lambda x: len(set(x))).reset_index()['manager']\n",
    "\n",
    "team_data_season.sort_values('team_points', ascending = False, inplace = True)\n",
    "\n",
    "team_data_season_avg = team_data_season.copy()\n",
    "\n",
    "numeric_columns = [col for col in numeric_columns if col not in mean_cols]\n",
    "\n",
    "team_data_season_avg.loc[:, numeric_columns] = team_data_season_avg.loc[:, numeric_columns].div(team_data_season_avg['num_matches'], axis=0)\n",
    "\n",
    "team_data_season_avg.sort_values('team_points',ascending = False, inplace = True)\n",
    "\n",
    "for l in leagues:\n",
    "    \n",
    "    for s in seasons:\n",
    "        \n",
    "        mask = (team_data_season.league == l) & (team_data_season.season == s)\n",
    "        \n",
    "        ls = team_data_season.loc[mask].sort_values('team_points').reset_index(drop = True)\n",
    "        ls['league_rank'] = range(1,len(ls)+1)\n",
    "        ls.to_csv(f'analytics/team_data_{l}_{s}.csv', index = False)\n",
    "        \n",
    "        lsa = team_data_season_avg.loc[mask].sort_values('team_points').reset_index(drop = True)\n",
    "        lsa['league_rank'] = range(1,len(lsa)+1)\n",
    "        lsa.to_csv(f'analytics/team_data_{l}_{s}_avg.csv', index = False)\n",
    "        \n",
    "        team_data_season.loc[mask, 'league_rank'] = range(1,len(team_data_season[mask])+1)\n",
    "        \n",
    "        team_data_season_avg.loc[mask, 'league_rank'] = range(1,len(team_data_season_avg[mask])+1)\n",
    "\n",
    "team_data_season_avg.to_csv('analytics/team_data_season_avg.csv', index = False)\n",
    "team_data_season.to_csv('analytics/team_data_season.csv', index = False)"
   ]
  },
  {
   "cell_type": "markdown",
   "id": "52ff1e72",
   "metadata": {},
   "source": [
    "#### 4.4. Generate table of player per season stats"
   ]
  },
  {
   "cell_type": "code",
   "execution_count": 22,
   "id": "17bae8d5",
   "metadata": {},
   "outputs": [],
   "source": [
    "player_columns = ['name', 'main_position', 'team', 'league', 'season']\n",
    "\n",
    "numeric_columns = player_match_data.select_dtypes(include=[np.number]).columns.tolist()\n",
    "redundant_numeric_columns = ['home_xg','away_xg', 'gameweek', 'x', 'y',\n",
    "       'shirtnumber', 'minutes', 'home_score', 'away_score',\n",
    "       'ht_home_score', 'ht_away_score', 'match_home_win', 'match_draw',\n",
    "       'match_win', 'match_home_lose', 'match_away_lose',\n",
    "       'ht_match_home_win', 'ht_match_draw', 'ht_match_away_win',\n",
    "       'ht_match_home_lose', 'ht_match_away_lose']\n",
    "numeric_columns = [col for col in numeric_columns if col not in redundant_numeric_columns]"
   ]
  },
  {
   "cell_type": "code",
   "execution_count": 23,
   "id": "12f0017f",
   "metadata": {},
   "outputs": [
    {
     "name": "stderr",
     "output_type": "stream",
     "text": [
      "/tmp/ipykernel_28486/2089326095.py:19: DeprecationWarning: In a future version, `df.iloc[:, i] = newvals` will attempt to set the values inplace instead of always setting a new array. To retain the old behavior, use either `df[df.columns[i]] = newvals` or, if columns are non-unique, `df.isetitem(i, newvals)`\n",
      "  player_data_season_avg.loc[:, numeric_columns] = player_data_season_avg.loc[:, numeric_columns].div(player_data_season_avg['num_matches'], axis=0)\n"
     ]
    }
   ],
   "source": [
    "agg_dict = {col: 'sum' for col in numeric_columns if col not in mean_cols and col not in player_columns}\n",
    "for x in mean_cols:\n",
    "    agg_dict[x]='mean'\n",
    "\n",
    "grouped_data = player_match_data.groupby(player_columns)\n",
    "player_data_season = grouped_data.agg(agg_dict).reset_index()\n",
    "player_data_season['num_matches'] = grouped_data.size().values\n",
    "\n",
    "player_data_season.sort_values('team_points', ascending = False)\n",
    "\n",
    "player_data_season.sort_values('goals', ascending = False, inplace = True)\n",
    "        \n",
    "player_data_season.to_csv('analytics/player_data_season.csv', index = False)\n",
    "\n",
    "player_data_season_avg = player_data_season.copy()\n",
    "\n",
    "numeric_columns = [col for col in numeric_columns if col not in mean_cols]\n",
    "\n",
    "player_data_season_avg.loc[:, numeric_columns] = player_data_season_avg.loc[:, numeric_columns].div(player_data_season_avg['num_matches'], axis=0)\n",
    "\n",
    "player_data_season_avg.sort_values('goals', ascending = False, inplace = True)\n",
    "\n",
    "player_data_season_avg.to_csv('analytics/player_data_season_avg.csv', index = False)\n",
    "\n",
    "for l in leagues:\n",
    "    \n",
    "    for s in seasons:\n",
    "        \n",
    "        ls = player_data_season.loc[\n",
    "            (player_data_season.league == l) & \n",
    "            (player_data_season.season == s)].sort_values('goals').reset_index(drop = True)\n",
    "        ls.to_csv(f'analytics/player_data_{l}_{s}.csv', index = False)\n",
    "        \n",
    "        lsa = player_data_season_avg.loc[\n",
    "            (player_data_season_avg.league == l) & \n",
    "            (player_data_season_avg.season == s)].sort_values('goals').reset_index(drop = True)\n",
    "        lsa.to_csv(f'analytics/player_data_{l}_{s}_avg.csv', index = False)"
   ]
  },
  {
   "cell_type": "markdown",
   "id": "919732cf",
   "metadata": {},
   "source": [
    "### 5. Conclusion\n",
    "\n",
    "In this notebook, from 2017-2018 season, next tables were created:\n",
    "\n",
    "- Table of team statistics for each played match summarized\n",
    "- Table of each match statistics summarized\n",
    "- Table of team statistics per each season summarized\n",
    "- Table of team statistics per each season averaged per match\n",
    "- Tables of team statistics for each league per each season summarized\n",
    "- Tables of team statistics for each league per each season averaged per match\n",
    "- Table of player statistics per season summarized\n",
    "- Table of player statistics per season averaged per match\n",
    "- Tables of player statistics for each league per each season summarized\n",
    "- Tables of player statistics for each league per each season averaged per match\n",
    "\n",
    "Thank you for your attention! \n"
   ]
  }
 ],
 "metadata": {
  "kernelspec": {
   "display_name": "Python 3 (ipykernel)",
   "language": "python",
   "name": "python3"
  },
  "language_info": {
   "codemirror_mode": {
    "name": "ipython",
    "version": 3
   },
   "file_extension": ".py",
   "mimetype": "text/x-python",
   "name": "python",
   "nbconvert_exporter": "python",
   "pygments_lexer": "ipython3",
   "version": "3.8.10"
  }
 },
 "nbformat": 4,
 "nbformat_minor": 5
}
